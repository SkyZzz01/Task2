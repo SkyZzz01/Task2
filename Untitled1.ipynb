{
  "metadata": {
    "language_info": {
      "codemirror_mode": {
        "name": "python",
        "version": 3
      },
      "file_extension": ".py",
      "mimetype": "text/x-python",
      "name": "python",
      "nbconvert_exporter": "python",
      "pygments_lexer": "ipython3",
      "version": "3.8"
    },
    "kernelspec": {
      "name": "python",
      "display_name": "Python (Pyodide)",
      "language": "python"
    }
  },
  "nbformat_minor": 4,
  "nbformat": 4,
  "cells": [
    {
      "cell_type": "markdown",
      "source": "На вход подается строка, состоящая из одного числа. Напишите программу, которая удваивает его.",
      "metadata": {}
    },
    {
      "cell_type": "code",
      "source": "print(int(input()) * 2)",
      "metadata": {},
      "execution_count": null,
      "outputs": []
    },
    {
      "cell_type": "markdown",
      "source": "На вход подается строка, состоящая из одного числа. Напишите программу, которая удваивает его.",
      "metadata": {}
    },
    {
      "cell_type": "code",
      "source": "a = int(input())\nprint(a * a)",
      "metadata": {},
      "execution_count": null,
      "outputs": []
    },
    {
      "cell_type": "markdown",
      "source": "Вводятся часы, минуты и секунды. Вывести, сколько секунд прошло с полуночи. \nВывести, какая часть суток прошла (число от 0 до 1).",
      "metadata": {}
    },
    {
      "cell_type": "code",
      "source": "hours = int(input(\"hours: \"))\nminutes = int(input(\"minutes: \"))\nsecs = int(input(\"seconds: \"))\nminutes0 = minutes + (hours * 60)\nsecs0 = secs + (minutes0 * 60)\nprint(\"seconds: \", secs0)\nminutes1 = (secs / 60) + minutes\nhours1 = (minutes1 / 60) + hours\nprint(\"day part: \", hours1/24)",
      "metadata": {},
      "execution_count": null,
      "outputs": []
    },
    {
      "cell_type": "markdown",
      "source": "Вводится число. Вывести, оканчивается ли оно на цифру 7, не используя приведение к строке и операции над строками",
      "metadata": {}
    },
    {
      "cell_type": "code",
      "source": "a = int(input())\nif a[-1] == 7:\n    print(\"TRUE\")\nelse:\n    print(\"FALSE\")",
      "metadata": {},
      "execution_count": null,
      "outputs": []
    },
    {
      "cell_type": "markdown",
      "source": "Вводятся коэффициенты уравнения ax2+bx+c=0. Вывести его корни(не забыть проверить, что a не равно 0)",
      "metadata": {}
    },
    {
      "cell_type": "code",
      "source": "import math\n\na = int(input())\nb = int(input())\nc = int(input())\nif a != 0:\n    d = b ** 2 - 4 * a * c\n    if d > 0:\n        x1 = (-b + math.sqrt(d)) / (2 * a)\n        x2 = (-b - math.sqrt(d)) / (2 * a)\n        print(\"x1 = \", x1)\n        print(\"x2 = \", x2)\n    elif d == 0:\n        x = -b / (2 * a)\n        print(\"x = \", x)\n    else:\n        print(\"Корней нет\")\nelse:\n    print('x = ', -c/b)",
      "metadata": {},
      "execution_count": null,
      "outputs": []
    },
    {
      "cell_type": "markdown",
      "source": "Вводятся три числа. Вывести максимум из них.",
      "metadata": {}
    },
    {
      "cell_type": "code",
      "source": "a = int(input())\nb = int(input())\nc = int(input())\nprint(max(a, b, c))",
      "metadata": {},
      "execution_count": null,
      "outputs": []
    },
    {
      "cell_type": "markdown",
      "source": "Вводится число. Вывести среднее арифметическое (с точностью до двух знаков после запятой) тех чисел в диапазоне от единицы до введённого числа, которые делятся 5 или являются четными.",
      "metadata": {}
    },
    {
      "cell_type": "code",
      "source": "count = 0\nb = 0\na = int(input())\nfor i in range(1, a + 1):\n    if i % 2 == 0:\n        b += i\n        count += 1\n    elif i % 5 == 0:\n        b += i\n        count += 1\nprint(int((b / count) * 100) / 100)",
      "metadata": {},
      "execution_count": null,
      "outputs": []
    }
  ]
}
